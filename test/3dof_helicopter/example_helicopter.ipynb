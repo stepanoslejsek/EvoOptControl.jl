{
 "cells": [
  {
   "cell_type": "markdown",
   "metadata": {},
   "source": [
    "Lets continue with a more advanced example - trajectory optimization for 3 DOF helicopter. The cost that will be minimized will be the energy of control input on interval (0, 10).\n",
    "\n",
    "$$\\min_{x(t), \\tilde{f}(t)} \\int_0^{10} \\tilde{f_1}^2(t) + \\tilde{f_2}^2(t)\\mathrm{d}t$$\n",
    "\n",
    "where $f_i(t)$ is a thrust force produced by $i$-th motor.\n",
    "\n",
    "The 3 DOF helicopter dynamics can be written as\n",
    "\n",
    "$$\\ddot{\\lambda} = -c_{\\lambda}\\dot{\\lambda} - \\tilde{b}_{\\lambda} \\cos \\varepsilon \\sin \\theta \\tilde{f_s}$$\n",
    "$$\\ddot{\\varepsilon} = a_{\\varepsilon_1}\\sin\\varepsilon - a_{\\varepsilon_2}\\sin\\varepsilon\\cos\\theta - c_{\\varepsilon}\\dot{\\varepsilon} + \\tilde{b}_{\\varepsilon}\\cos\\theta\\tilde{f_s}$$\n",
    "$$\\ddot{\\theta} = -a_{\\theta}\\cos{\\varepsilon}\\sin\\theta - c_{\\theta}\\dot{\\theta} + b_{\\theta}\\tilde{f_d}$$\n",
    "$$\\tilde{f_s} = \\tilde{f_1} + \\tilde{f_2}$$\n",
    "$$\\tilde{f_d} = \\tilde{f_1} - \\tilde{f_2}$$\n",
    "\n",
    "with following constraints\n",
    "\n",
    "$$-90 \\ \\mathrm{deg} \\le \\theta \\le 90 \\ \\mathrm{deg}$$\n",
    "$$0 \\ \\mathrm{deg} \\le \\varepsilon \\le 63.5 \\ \\mathrm{deg}$$\n",
    "$$-360 \\ \\mathrm{deg} \\le \\lambda \\le 360 \\ \\mathrm{deg}$$\n",
    "$$0 \\le \\tilde{f_s} \\le 1$$\n",
    "$$0 \\le \\tilde{f_1} \\le 1$$\n",
    "$$0 \\le \\tilde{f_2} \\le 1$$\n",
    "\n",
    "\n",
    "Lets say we want to bring the helicopter from position ($\\lambda = 0$, $\\varepsilon = 30$, $\\theta = 0 $) to a position ($\\lambda = 90$, $\\varepsilon = 30$, $\\theta = 0$) - i.e. turn the travel angle by 90 degrees with no change in pitch and elevation - in the time interval with minimum energy."
   ]
  },
  {
   "cell_type": "markdown",
   "metadata": {},
   "source": [
    "The parameters were obtained by paper from former colleagues at https://gitlab.fel.cvut.cz/aa4cc/edu-ctrl-lab-models/quanser-3dof-helicopter/-/blob/master/papers/semestral_project_report_ORR_2017-18_chirtand_obrusvit.pdf?ref_type=heads "
   ]
  },
  {
   "cell_type": "code",
   "execution_count": 4,
   "metadata": {},
   "outputs": [
    {
     "data": {
      "text/plain": [
       "2-element Vector{ControlConstraint}:\n",
       " ControlConstraint(identity, [0.0, 0.0], [1.0, 1.0])\n",
       " ControlConstraint(sum, [0.0], [1.0])"
      ]
     },
     "execution_count": 4,
     "metadata": {},
     "output_type": "execute_result"
    }
   ],
   "source": [
    "using EvoOptControl\n",
    "\n",
    "# 3 DOF helicopter dynamics\n",
    "function helicopter_dynamics(x, u, t)\n",
    "    λ, ε, θ, dλ, dε, dθ = x\n",
    "    f₁, f₂ = u\n",
    "    dx = [dλ;\n",
    "          dε;\n",
    "          dθ;\n",
    "          -0.0001 * dλ - 0.1812 * cos(ε) * sin(θ) * (f₁ + f₂);\n",
    "          0.8978 * sin(ε) - 0.2621 * sin(ε) * cos(θ) - 0.0422 * dε + 0.2423 * cos(θ) * (f₁ + f₂);\n",
    "          -0.0299 * cos(ε) * sin(θ) - 0.0372 * dθ + 2.3261 * (f₁ - f₂)\n",
    "        ]\n",
    "    return dx\n",
    "end\n",
    "\n",
    "# Running cost (term in the integral part of the cost)\n",
    "running_cost(x, u, t) = u[1]^2 + u[2]^2\n",
    "\n",
    "# Terminal cost\n",
    "terminal_cost(x, t) = 0\n",
    "\n",
    "# Time span on which is OCP solved\n",
    "tspan = (0.0, 10.0)\n",
    "\n",
    "# Boundary conditions\n",
    "x0 = [0.0; 30.0; 0.0; 0.0; 0.0; 0.0]\n",
    "xf = [90.0; 30.0; 0.0; 0.0; 0.0; 0.0]\n",
    "\n",
    "# Utility variables\n",
    "state_dim = 6 # dimension of state\n",
    "control_dim = 2 # dimension of control\n",
    "\n",
    "# State & control constraints\n",
    "state_constraints = [StateConstraint(identity, [-360.0, 0.0, -90.0, -Inf, -Inf, -Inf], [360.0, 63.5, 90.0, Inf, Inf, Inf])]\n",
    "control_constraints = [ControlConstraint(identity, [0.0, 0.0], [1.0, 1.0]), ControlConstraint(sum, [0.0], [1.0])]"
   ]
  },
  {
   "cell_type": "markdown",
   "metadata": {},
   "source": [
    "Lets now define the direct collocation method and create 3 instances of `TrapezoidalCollocation` with different `N`."
   ]
  },
  {
   "cell_type": "code",
   "execution_count": 5,
   "metadata": {},
   "outputs": [
    {
     "data": {
      "text/plain": [
       "TrapezoidalCollocation(200)"
      ]
     },
     "execution_count": 5,
     "metadata": {},
     "output_type": "execute_result"
    }
   ],
   "source": [
    "N_small = 10\n",
    "N_medium = 50\n",
    "N_high = 200\n",
    "\n",
    "# Trapezoidal method\n",
    "method2_small = TrapezoidalCollocation(N_small)\n",
    "method2_medium = TrapezoidalCollocation(N_medium)\n",
    "method2_high = TrapezoidalCollocation(N_high)"
   ]
  },
  {
   "cell_type": "markdown",
   "metadata": {},
   "source": [
    "Now it is time do define the OCP."
   ]
  },
  {
   "cell_type": "code",
   "execution_count": 6,
   "metadata": {},
   "outputs": [
    {
     "data": {
      "text/plain": [
       "OCProblem{TrapezoidalCollocation}(running_cost, terminal_cost, (0.0, 10.0), helicopter_dynamics, [0.0, 30.0, 0.0, 0.0, 0.0, 0.0], [90.0, 30.0, 0.0, 0.0, 0.0, 0.0], 6, 2, TrapezoidalCollocation(200), StateConstraint[StateConstraint(identity, [-360.0, 0.0, -90.0, -Inf, -Inf, -Inf], [360.0, 63.5, 90.0, Inf, Inf, Inf])], ControlConstraint[ControlConstraint(identity, [0.0, 0.0], [1.0, 1.0]), ControlConstraint(sum, [0.0], [1.0])])"
      ]
     },
     "execution_count": 6,
     "metadata": {},
     "output_type": "execute_result"
    }
   ],
   "source": [
    "prob2_small = OCProblem(running_cost, terminal_cost, tspan, helicopter_dynamics, x0, xf, state_dim, control_dim, method2_small, state_constraints, control_constraints)\n",
    "prob2_medium = OCProblem(running_cost, terminal_cost, tspan, helicopter_dynamics, x0, xf, state_dim, control_dim, method2_medium, state_constraints, control_constraints)\n",
    "prob2_high = OCProblem(running_cost, terminal_cost, tspan, helicopter_dynamics, x0, xf, state_dim, control_dim, method2_high, state_constraints, control_constraints)\n",
    "\n",
    "problem_dict = Dict(\n",
    "    (\"Trapezoidal\", \"10\") => prob2_small,\n",
    "    (\"Trapezoidal\", \"50\") => prob2_medium,\n",
    "    (\"Trapezoidal\", \"200\") => prob2_high\n",
    ")"
   ]
  },
  {
   "cell_type": "markdown",
   "metadata": {},
   "source": [
    "Lets now discuss, which EA will be used. I chose 2 EAs, the first one being CMA-ES with parameters $\\mu = 100$ and $\\lambda = 200$. The second EA will be $(\\mu/\\rho , \\lambda)$ ES with $\\mu = 100$, $\\rho = 40$ and $\\lambda=200$ both with population size of 300 each ran for 10 trials with 150 iterations for each run.\n",
    "\n",
    "Crossover operator for ES is going to be averaging, mutation is going to be isotropic gaussian (one $\\sigma$ for population)"
   ]
  },
  {
   "cell_type": "code",
   "execution_count": 7,
   "metadata": {},
   "outputs": [
    {
     "data": {
      "text/plain": [
       "(100/40,200)-ES"
      ]
     },
     "execution_count": 7,
     "metadata": {},
     "output_type": "execute_result"
    }
   ],
   "source": [
    "using Evolutionary\n",
    "\n",
    "N_runs = 10\n",
    "population_size = 300\n",
    "iterations = 150\n",
    "\n",
    "# CMA-ES\n",
    "ea_method1 = CMAES(mu = 100, lambda = 200)\n",
    "\n",
    "# (mu/rho + lambda) ES\n",
    "ea_method2_small = ES(initStrategy = IsotropicStrategy(N_small*(state_dim + control_dim)), srecombination = average, recombination = average, mutation = gaussian,\n",
    "                   smutation = gaussian, mu = 100, rho = 40, lambda = 200, selection = :comma)\n",
    "    \n",
    "ea_method2_medium = ES(initStrategy = IsotropicStrategy(N_medium*(state_dim + control_dim)), srecombination = average, recombination = average, mutation = gaussian,\n",
    "                    smutation = gaussian, mu = 100, rho = 40, lambda = 200, selection = :comma)\n",
    "        \n",
    "ea_method2_high = ES(initStrategy = IsotropicStrategy(N_high*(state_dim + control_dim)), srecombination = average, recombination = average, mutation = gaussian,\n",
    "                  smutation = gaussian, mu = 100, rho = 40, lambda = 200, selection = :comma)"
   ]
  },
  {
   "cell_type": "markdown",
   "metadata": {},
   "source": [
    "Lets prepare storage for the optimization and lets optimize!"
   ]
  },
  {
   "cell_type": "code",
   "execution_count": null,
   "metadata": {},
   "outputs": [],
   "source": [
    "# Storage for all optimization data\n",
    "optimization_results = Dict{String, Dict{String, Dict{String, Vector{OCPSolution}}}}()\n",
    "\n",
    "trapezoidal_small_cmaes = Vector{OCPSolution}(undef, N_runs)\n",
    "trapezoidal_small_es = Vector{OCPSolution}(undef, N_runs)\n",
    "trapezoidal_medium_cmaes = Vector{OCPSolution}(undef, N_runs)\n",
    "trapezoidal_medium_es = Vector{OCPSolution}(undef, N_runs)\n",
    "trapezoidal_high_cmaes = Vector{OCPSolution}(undef, N_runs)\n",
    "trapezoidal_high_es = Vector{OCPSolution}(undef, N_runs)\n",
    "\n",
    "# Main loop\n",
    "for i = 1:N_runs\n",
    "\n",
    "    sol_tr_small_cmaes = solve_ocp(prob2_small, ea_method1, population_size, iterations)\n",
    "    sol_tr_small_es = solve_ocp(prob2_small, ea_method2_small, population_size, iterations)\n",
    "    sol_tr_medium_cmaes = solve_ocp(prob2_medium, ea_method1, population_size, iterations)\n",
    "    sol_tr_medium_es = solve_ocp(prob2_medium, ea_method2_medium, population_size, iterations)\n",
    "    sol_tr_high_cmaes = solve_ocp(prob2_high, ea_method1, population_size, iterations)\n",
    "    sol_tr_high_es = solve_ocp(prob2_high, ea_method2_high, population_size, iterations)\n",
    "\n",
    "    trapezoidal_small_cmaes[i] = create_OCPSolution(prob2_small, sol_tr_small_cmaes)\n",
    "    trapezoidal_small_es[i] = create_OCPSolution(prob2_small, sol_tr_small_es)\n",
    "    trapezoidal_medium_cmaes[i] = create_OCPSolution(prob2_medium, sol_tr_medium_cmaes)\n",
    "    trapezoidal_medium_es[i] = create_OCPSolution(prob2_medium, sol_tr_medium_es)\n",
    "    trapezoidal_high_cmaes[i] = create_OCPSolution(prob2_high, sol_tr_high_cmaes)\n",
    "    trapezoidal_high_es[i] = create_OCPSolution(prob2_high, sol_tr_high_es)\n",
    "end\n",
    "\n",
    "using CairoMakie\n",
    "optimization_results[\"Trapezoidal\"] = Dict(\"CMAES\" => Dict(\"10\" => trapezoidal_small_cmaes, \"50\" => trapezoidal_medium_cmaes, \"200\"=>trapezoidal_high_cmaes), \"ES\" => Dict(\"10\" => trapezoidal_small_es, \"50\" => trapezoidal_medium_es, \"200\" => trapezoidal_high_es))\n",
    "set_theme!(theme_latexfonts(), fontsize=12)\n",
    "for (method, ea_results) in optimization_results\n",
    "    for (ea_type, collocation_result) in ea_results\n",
    "        for (N, results) in collocation_result\n",
    "            best_sol = minimum(results)\n",
    "            prob_instance = problem_dict[(method, N)]\n",
    "            diffeq_sol = simulate_system(helicopter_dynamics, prob_instance, best_sol)\n",
    "            fig = plot_results(prob_instance, results, diffeq_sol, \"Results for \" * method * \" with \" * ea_type * \" (N = \" * N * \")\")\n",
    "            save(\"Results_\" * method * \"_\" * ea_type * \"_N_\" * N * \".pdf\", fig)\n",
    "        end\n",
    "    end\n",
    "end"
   ]
  }
 ],
 "metadata": {
  "kernelspec": {
   "display_name": "Julia 1.10.5",
   "language": "julia",
   "name": "julia-1.10"
  },
  "language_info": {
   "file_extension": ".jl",
   "mimetype": "application/julia",
   "name": "julia",
   "version": "1.10.5"
  }
 },
 "nbformat": 4,
 "nbformat_minor": 4
}
