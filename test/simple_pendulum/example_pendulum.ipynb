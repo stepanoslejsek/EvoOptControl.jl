{
 "cells": [
  {
   "cell_type": "markdown",
   "metadata": {},
   "source": [
    "This example shows, how to formulate and solve optimal control problem (OCP) with evolutionary algorithms using packages EvoOptControl.jland Evolutionary.jl"
   ]
  },
  {
   "cell_type": "markdown",
   "metadata": {},
   "source": [
    "The general OCP can be formulated as follows:\n",
    "$$\\min_{x(t), u(t)} \\phi(t_0, x(t_0), t_f, x(t_f)) + \\int_{t_0}^{t_f}L(x(t), u(t), t) \\mathrm{d}t$$\n",
    "subject to $$\\dot{x} = f(x(t), u(t), t)$$ $$c_{\\mathrm{min}} < c(x(t), u(t), t) < c_{\\mathrm{max}}$$ $$b_{\\mathrm{min}} < b(t_0, x(t_0), t_f, x(t_f)) < b_{\\mathrm{max}}$$"
   ]
  },
  {
   "cell_type": "markdown",
   "metadata": {},
   "source": [
    "where $c(x(t), u(t), t)$ represents constraints and $b(t_0, x(t_0), t_f, x(t_f))$ represents boundary conditions. The first equation is general state equation that must be satisfied for given dynamical system."
   ]
  },
  {
   "cell_type": "markdown",
   "metadata": {},
   "source": [
    "This problem is quite hard to solve analytically, therefore there are developed many numerical methods for solving this problem. The two big categories are *indirect* methods and *direct* methods. This example is focused on *direct* methods, which can be separated into *single shooting* method, *multiple-shooting* method and *direct collocation* (using h-scheme, hp-scheme, p-scheme - more on those in presentation), which can transform original problem into nonlinear program (NLP)."
   ]
  },
  {
   "cell_type": "markdown",
   "metadata": {},
   "source": [
    "Generally the NLP can be intractable to solve (can be heavily nonconvex). Therefore I'm presenting a package, that will transform the original problem into NLP and try to solve it with evolutionary algorithms."
   ]
  },
  {
   "cell_type": "markdown",
   "metadata": {},
   "source": [
    "Lets start with a relatively simple example - trajectory optimization for single pendulum. The cost that will be minimized will be the energy of control input on interval (0, 1).\n",
    "\n",
    "$$\\min_{x(t), u(t)} \\int_0^1 u^2(t)\\mathrm{d}t$$\n",
    "\n",
    "Lets say we want to bring the pendulum from stable position ($\\theta = 0$, $\\omega = 0$) to an unstable position ($\\theta = \\pi$, $\\omega = 0$) in the time interval with minimum energy. The pendulum dynamics can be written as\n",
    "\n",
    "$$\\dot{\\theta} = \\omega$$ \n",
    "$$\\dot{\\omega} = -\\frac{g}{l}\\sin(\\theta) + \\frac{1}{ml^2}u$$\n",
    "\n",
    "But we must state that the state and control is bounded $\\theta \\in [-2\\pi, 2\\pi]$, $\\omega \\in [-10, 10]$ and $u \\in [-1, 1]$"
   ]
  },
  {
   "cell_type": "markdown",
   "metadata": {},
   "source": [
    "Lets model this example, with $l = m = 1$"
   ]
  },
  {
   "cell_type": "code",
   "execution_count": null,
   "metadata": {},
   "outputs": [],
   "source": [
    "using EvoOptControl\n",
    "\n",
    "# Pendulum ODE\n",
    "function pendulum_dynamics(x, u, t)\n",
    "    θ, ω = x\n",
    "    dx = [ω; -9.81 * sin(θ) + u[1]]\n",
    "    return dx\n",
    "end\n",
    "\n",
    "# Running cost (term in the integral part of the cost)\n",
    "running_cost(x, u, t) = u[1]^2\n",
    "\n",
    "# Terminal cost\n",
    "terminal_cost(x, t) = 0\n",
    "\n",
    "# Time span on which is OCP solved\n",
    "tspan = (0.0, 1.0)\n",
    "\n",
    "# Boundary conditions\n",
    "x0 = [0.0; 0.0]\n",
    "xf = [pi; 0.0]\n",
    "\n",
    "# Utility variables\n",
    "state_dim = 2 # dimension of state\n",
    "control_dim = 1 # dimension of control\n",
    "\n",
    "# State & control constraints\n",
    "state_constraints = [StateConstraint(identity, [-2pi, -10.0], [2pi, 10.0])]\n",
    "control_constraints = [ControlConstraint(identity, [-1.0], [1.0])]"
   ]
  },
  {
   "cell_type": "markdown",
   "metadata": {},
   "source": [
    "Lets now define the direct collocation method. As a now, only 2 methods from h-scheme are implemented: `BackwardEulerCollocation` and `TrapezoidalCollocation`. Few of hp-scheme are developed. Each collocation method takes number of intervals `N` as an argument. The higher the `N` is, the harder the NLP is but the transcription (transformation into NLP) is more accurate. Lets create 3 instances of `BackwardEulerCollocation` and `TrapezoidalCollocation` with different `N`."
   ]
  },
  {
   "cell_type": "code",
   "execution_count": null,
   "metadata": {},
   "outputs": [],
   "source": [
    "N_small = 10\n",
    "N_medium = 50\n",
    "N_high = 200\n",
    "\n",
    "# Backwar Euler method\n",
    "method1_small = BackwardEulerCollocation(N_small)\n",
    "method1_medium = BackwardEulerCollocation(N_medium)\n",
    "method1_high = BackwardEulerCollocation(N_high)\n",
    "\n",
    "# Trapezoidal method\n",
    "method2_small = TrapezoidalCollocation(N_small)\n",
    "method2_medium = TrapezoidalCollocation(N_medium)\n",
    "method2_high = TrapezoidalCollocation(N_high)"
   ]
  },
  {
   "cell_type": "markdown",
   "metadata": {},
   "source": [
    "Now it is time do define the OCP."
   ]
  },
  {
   "cell_type": "code",
   "execution_count": null,
   "metadata": {},
   "outputs": [],
   "source": [
    "prob1_small = OCProblem(running_cost, terminal_cost, tspan, pendulum_dynamics, x0, xf, state_dim, control_dim, method1_small, state_constraints, control_constraints)\n",
    "prob1_medium = OCProblem(running_cost, terminal_cost, tspan, pendulum_dynamics, x0, xf, state_dim, control_dim, method1_medium, state_constraints, control_constraints)\n",
    "prob1_high = OCProblem(running_cost, terminal_cost, tspan, pendulum_dynamics, x0, xf, state_dim, control_dim, method1_high, state_constraints, control_constraints)\n",
    "\n",
    "prob2_small = OCProblem(running_cost, terminal_cost, tspan, pendulum_dynamics, x0, xf, state_dim, control_dim, method2_small, state_constraints, control_constraints)\n",
    "prob2_medium = OCProblem(running_cost, terminal_cost, tspan, pendulum_dynamics, x0, xf, state_dim, control_dim, method2_medium, state_constraints, control_constraints)\n",
    "prob2_high = OCProblem(running_cost, terminal_cost, tspan, pendulum_dynamics, x0, xf, state_dim, control_dim, method2_high, state_constraints, control_constraints)\n",
    "\n",
    "problem_dict = Dict(\n",
    "    (\"BackwardEuler\", \"10\") => prob1_small,\n",
    "    (\"BackwardEuler\", \"50\") => prob1_medium,\n",
    "    (\"BackwardEuler\", \"200\") => prob1_high,\n",
    "    (\"Trapezoidal\", \"10\") => prob2_small,\n",
    "    (\"Trapezoidal\", \"50\") => prob2_medium,\n",
    "    (\"Trapezoidal\", \"200\") => prob2_high\n",
    ")"
   ]
  },
  {
   "cell_type": "markdown",
   "metadata": {},
   "source": [
    "Lets now discuss, which EA will be used. I chose 2 EAs, the first one being CMA-ES with parameters $\\mu = 100$ and $\\lambda = 200$. The second EA will be $(\\mu/\\rho , \\lambda)$ ES with $\\mu = 100$, $\\rho = 40$ and $\\lambda=200$ both with population size of 300 each ran for 10 trials with 150 iterations for each run.\n",
    "\n",
    "Crossover operator for ES is going to be averaging, mutation is going to be isotropic gaussian (one $\\sigma$ for population)"
   ]
  },
  {
   "cell_type": "code",
   "execution_count": null,
   "metadata": {},
   "outputs": [],
   "source": [
    "using Evolutionary\n",
    "\n",
    "N_runs = 10\n",
    "population_size = 300\n",
    "iterations = 150\n",
    "\n",
    "# CMA-ES\n",
    "ea_method1 = CMAES(mu = 100, lambda = 200)\n",
    "\n",
    "# (mu/rho + lambda) ES\n",
    "ea_method2_small = ES(initStrategy = IsotropicStrategy(N_small*(state_dim + control_dim)), srecombination = average, recombination = average, mutation = gaussian,\n",
    "                   smutation = gaussian, mu = 100, rho = 40, lambda = 200, selection = :comma)\n",
    "    \n",
    "ea_method2_medium = ES(initStrategy = IsotropicStrategy(N_medium*(state_dim + control_dim)), srecombination = average, recombination = average, mutation = gaussian,\n",
    "                    smutation = gaussian, mu = 100, rho = 40, lambda = 200, selection = :comma)\n",
    "        \n",
    "ea_method2_high = ES(initStrategy = IsotropicStrategy(N_high*(state_dim + control_dim)), srecombination = average, recombination = average, mutation = gaussian,\n",
    "                  smutation = gaussian, mu = 100, rho = 40, lambda = 200, selection = :comma)"
   ]
  },
  {
   "cell_type": "markdown",
   "metadata": {},
   "source": [
    "Lets prepare storage for the optimization and lets optimize! "
   ]
  },
  {
   "cell_type": "code",
   "execution_count": null,
   "metadata": {},
   "outputs": [],
   "source": [
    "# Storage for all optimization data\n",
    "optimization_results = Dict{String, Dict{String, Dict{String, Vector{OCPSolution}}}}()\n",
    "\n",
    "# Storage for particular case\n",
    "backward_small_cmaes = Vector{OCPSolution}(undef, N_runs)\n",
    "backward_small_es = Vector{OCPSolution}(undef, N_runs)\n",
    "backward_medium_cmaes = Vector{OCPSolution}(undef, N_runs)\n",
    "backward_medium_es = Vector{OCPSolution}(undef, N_runs)\n",
    "backward_high_cmaes = Vector{OCPSolution}(undef, N_runs)\n",
    "backward_high_es = Vector{OCPSolution}(undef, N_runs)\n",
    "\n",
    "trapezoidal_small_cmaes = Vector{OCPSolution}(undef, N_runs)\n",
    "trapezoidal_small_es = Vector{OCPSolution}(undef, N_runs)\n",
    "trapezoidal_medium_cmaes = Vector{OCPSolution}(undef, N_runs)\n",
    "trapezoidal_medium_es = Vector{OCPSolution}(undef, N_runs)\n",
    "trapezoidal_high_cmaes = Vector{OCPSolution}(undef, N_runs)\n",
    "trapezoidal_high_es = Vector{OCPSolution}(undef, N_runs)\n",
    "\n",
    "# Main loop\n",
    "for i = 1:N_runs\n",
    "    sol_bw_small_cmaes = solve_ocp(prob1_small, ea_method1, population_size, iterations)\n",
    "    sol_bw_small_es = solve_ocp(prob1_small, ea_method2_small, population_size, iterations)\n",
    "    sol_bw_medium_cmaes = solve_ocp(prob1_medium, ea_method1, population_size, iterations)\n",
    "    sol_bw_medium_es = solve_ocp(prob1_medium, ea_method2_medium, population_size, iterations)\n",
    "    sol_bw_high_cmaes = solve_ocp(prob1_high, ea_method1, population_size, iterations)\n",
    "    sol_bw_high_es = solve_ocp(prob1_high, ea_method2_high, population_size, iterations)\n",
    "\n",
    "    sol_tr_small_cmaes = solve_ocp(prob2_small, ea_method1, population_size, iterations)\n",
    "    sol_tr_small_es = solve_ocp(prob2_small, ea_method2_small, population_size, iterations)\n",
    "    sol_tr_medium_cmaes = solve_ocp(prob2_medium, ea_method1, population_size, iterations)\n",
    "    sol_tr_medium_es = solve_ocp(prob2_medium, ea_method2_medium, population_size, iterations)\n",
    "    sol_tr_high_cmaes = solve_ocp(prob2_high, ea_method1, population_size, iterations)\n",
    "    sol_tr_high_es = solve_ocp(prob2_high, ea_method2_high, population_size, iterations)\n",
    "\n",
    "    backward_small_cmaes[i] = create_OCPSolution(prob1_small, sol_bw_small_cmaes)\n",
    "    backward_small_es[i] = create_OCPSolution(prob1_small, sol_bw_small_es)\n",
    "    backward_medium_cmaes[i] = create_OCPSolution(prob1_medium, sol_bw_medium_cmaes)\n",
    "    backward_medium_es[i] = create_OCPSolution(prob1_medium, sol_bw_medium_es)\n",
    "    backward_high_cmaes[i] = create_OCPSolution(prob1_high, sol_bw_high_cmaes)\n",
    "    backward_high_es[i] = create_OCPSolution(prob1_high, sol_bw_high_es)\n",
    "\n",
    "    trapezoidal_small_cmaes[i] = create_OCPSolution(prob2_small, sol_tr_small_cmaes)\n",
    "    trapezoidal_small_es[i] = create_OCPSolution(prob2_small, sol_tr_small_es)\n",
    "    trapezoidal_medium_cmaes[i] = create_OCPSolution(prob2_medium, sol_tr_medium_cmaes)\n",
    "    trapezoidal_medium_es[i] = create_OCPSolution(prob2_medium, sol_tr_medium_es)\n",
    "    trapezoidal_high_cmaes[i] = create_OCPSolution(prob2_high, sol_tr_high_cmaes)\n",
    "    trapezoidal_high_es[i] = create_OCPSolution(prob2_high, sol_tr_high_es)\n",
    "end\n",
    "\n",
    "optimization_results[\"BackwardEuler\"] = Dict(\"CMAES\" => Dict(\"10\" => backward_small_cmaes, \"50\" => backward_medium_cmaes, \"200\"=>backward_high_cmaes), \"ES\" => Dict(\"10\" => backward_small_es, \"50\" => backward_medium_es, \"200\" => backward_high_es))\n",
    "optimization_results[\"Trapezoidal\"] = Dict(\"CMAES\" => Dict(\"10\" => trapezoidal_small_cmaes, \"50\" => trapezoidal_medium_cmaes, \"200\"=>trapezoidal_high_cmaes), \"ES\" => Dict(\"10\" => trapezoidal_small_es, \"50\" => trapezoidal_medium_es, \"200\" => trapezoidal_high_es))\n",
    "\n",
    "using CairoMakie\n",
    "set_theme!(theme_latexfonts(), fontsize=12)\n",
    "for (method, ea_results) in optimization_results\n",
    "    for (ea_type, collocation_result) in ea_results\n",
    "        for (N, results) in collocation_result\n",
    "            best_sol = minimum(results)\n",
    "            prob_instance = problem_dict[(method, N)]\n",
    "            diffeq_sol = simulate_system(pendulum_dynamics, prob_instance, best_sol)\n",
    "            fig = plot_results(prob_instance, results, diffeq_sol, \"Results for \" * method * \" with \" * ea_type * \" (N = \" * N * \")\")\n",
    "            save(\"Results_\" * method * \"_\" * ea_type * \"_N_\" * N * \".pdf\", fig)\n",
    "        end\n",
    "    end\n",
    "end"
   ]
  }
 ],
 "metadata": {
  "kernelspec": {
   "display_name": "Julia 1.10.5",
   "language": "julia",
   "name": "julia-1.10"
  },
  "language_info": {
   "file_extension": ".jl",
   "mimetype": "application/julia",
   "name": "julia",
   "version": "1.10.5"
  }
 },
 "nbformat": 4,
 "nbformat_minor": 4
}
